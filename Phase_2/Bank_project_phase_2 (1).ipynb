{
 "cells": [
  {
   "cell_type": "markdown",
   "id": "e145e213-0826-4d67-a13a-27fcbc49f2b3",
   "metadata": {},
   "source": [
    "<h1 style=\"text-align:center;\"> Phase 2 </h1>\n",
    "\n",
    "### Objective\n",
    "The goal of **Phase 2** is to evaluate the effectiveness of the **marketing campaign for the youth credit card launch** using **A/B Testing**."
   ]
  },
  {
   "cell_type": "markdown",
   "id": "337a0865-db54-45a2-98ed-28023548f225",
   "metadata": {},
   "source": [
    "### Business Analysis and A/B Testing Launch: Exploring an Untapped Market\n",
    "\n",
    "### Insights on Customers Aged 18–25\n",
    "1. Customers aged **18–25** represent approximately **25% of the total customer base**.  \n",
    "2. Their **average annual income** is typically **below ₹50,000**, indicating limited purchasing capacity.  \n",
    "3. This segment has **minimal credit history**, resulting in **lower credit scores and smaller credit limits**.  \n",
    "4. **Credit card usage** as a payment option is **less frequent** compared to other age groups.  \n",
    "5. The **average credit card transaction value** is also **lower** than that of other segments.  \n",
    "6. The **most popular shopping categories** for this group are:  \n",
    "    - **Fashion & Apparel**\n",
    "    - **Electronics**  \n",
    "   - **Beauty & Personal Care**\n"
   ]
  },
  {
   "cell_type": "markdown",
   "id": "5c682815-53c2-4057-a1c5-40c62bda0179",
   "metadata": {},
   "source": [
    "<h3>Visualizations</h3>\n",
    "<p align=\"center\">\n",
    "  <img src=\"C:/Users/Shrinivass/images/pj_1.png\" width=\"500\">\n",
    "  <img src=\"C:/Users/Shrinivass/images/pj_2.png\" width=\"400\">\n",
    "</p>\n"
   ]
  },
  {
   "cell_type": "markdown",
   "id": "7c14531a-3702-4c97-bf98-a8865c5b2bb0",
   "metadata": {},
   "source": [
    "## (1) Pre-Campaign\n",
    "\n",
    "We plan to conduct a **trial run** for the launch of our new credit card.  \n",
    "To achieve this, we need to determine **how many customers** should be included in our **A/B testing**.  \n",
    "\n",
    "We will create two groups:  \n",
    "- **Control Group** – existing scenario (no new credit card offer)  \n",
    "- **Test Group** – exposed to the new Youth credit card offer  \n",
    "\n",
    "The **sample size** for each group will be calculated based on the **desired statistical power** and the **expected effect size**, which will be finalized using business knowledge .  \n",
    "\n",
    "This ensures that the A/B test results are both **statistically significant** and **business-relevant**.\n"
   ]
  },
  {
   "cell_type": "code",
   "execution_count": 35,
   "id": "2685d9fc-52c4-4649-8e85-d42837dc6be3",
   "metadata": {},
   "outputs": [],
   "source": [
    "import statsmodels.stats.api as sms\n",
    "import statsmodels.api as sm\n",
    "import pandas as pd\n",
    "import numpy as np\n",
    "from scipy import stats as st\n",
    "from matplotlib import pyplot as plt\n",
    "import seaborn as sns"
   ]
  },
  {
   "cell_type": "code",
   "execution_count": 37,
   "id": "0b93a218-bccc-4fbb-a970-092b48df0d43",
   "metadata": {},
   "outputs": [
    {
     "data": {
      "text/plain": [
       "393.4056989990335"
      ]
     },
     "execution_count": 37,
     "metadata": {},
     "output_type": "execute_result"
    }
   ],
   "source": [
    "alpha = 0.05\n",
    "power = 0.8\n",
    "effect_size=0.2\n",
    "\n",
    "sms.tt_ind_solve_power(\n",
    "    effect_size=0.2, \n",
    "    alpha=alpha, \n",
    "    power=power, \n",
    "    ratio=1, \n",
    "    alternative='two-sided'\n",
    ")"
   ]
  },
  {
   "cell_type": "markdown",
   "id": "8f8de6e7-a6e9-4ea5-a367-543200f8adb3",
   "metadata": {},
   "source": [
    "For an **effect size of 2**, we require approximately **393 customers** for the test.  \n",
    "However, thinking about the **budget constraints** of the campaign, we will experiment with **different effect sizes** to observe how the required sample size changes.  \n",
    "This will help us to decide and determine the **most feasible and optimal sample size** for the A/B test.\n"
   ]
  },
  {
   "cell_type": "code",
   "execution_count": 40,
   "id": "d14fd934-69cb-412c-a1fe-2cb907dd8365",
   "metadata": {},
   "outputs": [
    {
     "name": "stdout",
     "output_type": "stream",
     "text": [
      "Effect Size: 0.1, Required Sample Size: 1570 customers\n",
      "Effect Size: 0.2, Required Sample Size: 393 customers\n",
      "Effect Size: 0.3, Required Sample Size: 175 customers\n",
      "Effect Size: 0.4, Required Sample Size: 99 customers\n",
      "Effect Size: 0.5, Required Sample Size: 63 customers\n",
      "Effect Size: 1, Required Sample Size: 16 customers\n"
     ]
    }
   ],
   "source": [
    "# Calculating the required sample size for different effect sizes\n",
    "effect_sizes = [0.1, 0.2, 0.3, 0.4, 0.5,1]  #  standard deviations greater than control group \n",
    "\n",
    "for effect_size in effect_sizes:\n",
    "    sample_size = sms.tt_ind_solve_power(effect_size=effect_size, alpha=alpha, power=power, ratio=1, alternative='two-sided')\n",
    "    print(f\"Effect Size: {effect_size}, Required Sample Size: {int(sample_size)} customers\")"
   ]
  },
  {
   "cell_type": "markdown",
   "id": "496f544b-147d-4c0e-b443-c55ae7645bac",
   "metadata": {},
   "source": [
    "According to the business requirements, the test should be able to detect a **minimum difference of 0.4 standard deviations** between the control and test groups.  \n",
    "For an **effect size of 0.4**, we require around **100 customers**.  \n",
    "So for this Trial run we target 100 customers"
   ]
  },
  {
   "cell_type": "markdown",
   "id": "a3877c2d-417e-416b-8783-506b23b92163",
   "metadata": {},
   "source": [
    "#### Forming Control and Test Groups\n",
    "\n",
    "1. We identified around **246 customers** in the **18–25 age group**. From this segment, **100 customers** were selected for the **initial campaign launch**.  \n",
    "\n",
    "2. The **campaign** was executed for **100 customers**, based on the **effect size calculation** and **budgetary considerations**, and ran for a **duration of two months**.  \n",
    "\n",
    "3. The campaign achieved a **conversion rate of approximately 40%**, meaning that **40 out of 100 customers** in the **test group** began using the credit card.  \n",
    "\n",
    "4. To ensure a **balanced comparison**, a **control group of 40 customers** was formed. This group was kept **completely separate** from the 100 customers used in the test group.  \n",
    "\n",
    "5. Thus, we have **40 customers each** in the **control** and **test** groups for further analysis.\n"
   ]
  },
  {
   "cell_type": "markdown",
   "id": "a5d1e1c9-40e8-4618-b76b-bb27db584c65",
   "metadata": {},
   "source": [
    "##### At the conclusion of the **2-month campaign period**, we collected **daily data** representing the **average transaction amounts** for both groups — the **control group** using existing credit cards and the **test group** using the newly launched Youth credit card.  \n",
    "\n",
    "##### The primary **Key Performance Indicator (KPI)** for this A/B test is to measure the **improvement in the average transaction amount** driven by the introduction of the **new credit card**.\n"
   ]
  },
  {
   "cell_type": "markdown",
   "id": "49e9e1f3-7942-4056-be93-ae6a611fba54",
   "metadata": {},
   "source": [
    "## (2) Post-Campaign"
   ]
  },
  {
   "cell_type": "markdown",
   "id": "5800df7e-8e6f-48b3-ada1-c98ebbc7318a",
   "metadata": {},
   "source": [
    "## Two Sample Z Test for Hypothesis Testing"
   ]
  },
  {
   "cell_type": "code",
   "execution_count": 56,
   "id": "a13bdfec-f6b4-465f-9a6b-619b41fde301",
   "metadata": {},
   "outputs": [
    {
     "data": {
      "text/html": [
       "<div>\n",
       "<style scoped>\n",
       "    .dataframe tbody tr th:only-of-type {\n",
       "        vertical-align: middle;\n",
       "    }\n",
       "\n",
       "    .dataframe tbody tr th {\n",
       "        vertical-align: top;\n",
       "    }\n",
       "\n",
       "    .dataframe thead th {\n",
       "        text-align: right;\n",
       "    }\n",
       "</style>\n",
       "<table border=\"1\" class=\"dataframe\">\n",
       "  <thead>\n",
       "    <tr style=\"text-align: right;\">\n",
       "      <th></th>\n",
       "      <th>campaign_date</th>\n",
       "      <th>control_group_avg_tran</th>\n",
       "      <th>test_group_avg_tran</th>\n",
       "    </tr>\n",
       "  </thead>\n",
       "  <tbody>\n",
       "    <tr>\n",
       "      <th>0</th>\n",
       "      <td>2023-09-10</td>\n",
       "      <td>259.83</td>\n",
       "      <td>277.32</td>\n",
       "    </tr>\n",
       "    <tr>\n",
       "      <th>1</th>\n",
       "      <td>2023-09-11</td>\n",
       "      <td>191.27</td>\n",
       "      <td>248.68</td>\n",
       "    </tr>\n",
       "    <tr>\n",
       "      <th>2</th>\n",
       "      <td>2023-09-12</td>\n",
       "      <td>212.41</td>\n",
       "      <td>286.61</td>\n",
       "    </tr>\n",
       "    <tr>\n",
       "      <th>3</th>\n",
       "      <td>2023-09-13</td>\n",
       "      <td>214.92</td>\n",
       "      <td>214.85</td>\n",
       "    </tr>\n",
       "  </tbody>\n",
       "</table>\n",
       "</div>"
      ],
      "text/plain": [
       "  campaign_date  control_group_avg_tran  test_group_avg_tran\n",
       "0    2023-09-10                  259.83               277.32\n",
       "1    2023-09-11                  191.27               248.68\n",
       "2    2023-09-12                  212.41               286.61\n",
       "3    2023-09-13                  214.92               214.85"
      ]
     },
     "execution_count": 56,
     "metadata": {},
     "output_type": "execute_result"
    }
   ],
   "source": [
    "df = pd.read_csv(r\"D:\\my_projects\\Completed\\Bank_project_stats\\Phase_2\\data\\avg_transactions_after_campaign.csv\")\n",
    "df.head(4)"
   ]
  },
  {
   "cell_type": "code",
   "execution_count": 58,
   "id": "b941588e-9f90-4dad-88bd-3fdca29f2fbf",
   "metadata": {},
   "outputs": [
    {
     "data": {
      "text/plain": [
       "(62, 3)"
      ]
     },
     "execution_count": 58,
     "metadata": {},
     "output_type": "execute_result"
    }
   ],
   "source": [
    "df.shape"
   ]
  },
  {
   "cell_type": "code",
   "execution_count": 60,
   "id": "a573c20c-183a-4a46-80dc-e726d1dd86a6",
   "metadata": {},
   "outputs": [
    {
     "data": {
      "image/png": "[encoded data removed]",
      "text/plain": [
       "<Figure size 1200x400 with 2 Axes>"
      ]
     },
     "metadata": {},
     "output_type": "display_data"
    }
   ],
   "source": [
    "# Compare distributions of average transaction amounts (Control vs Test)\n",
    "plt.figure(figsize=(12, 4))\n",
    "\n",
    "# Control group distribution\n",
    "plt.subplot(1, 2, 1)\n",
    "sns.kdeplot(df['control_group_avg_tran'], fill=True, color='skyblue', label='Control Group')\n",
    "plt.xlabel('Average Transaction Amount')\n",
    "plt.ylabel('Density')\n",
    "plt.title('Control Group Transaction Distribution')\n",
    "plt.legend()\n",
    "\n",
    "# Test group distribution\n",
    "plt.subplot(1, 2, 2)\n",
    "sns.kdeplot(df['test_group_avg_tran'], fill=True, color='lightgreen', label='Test Group')\n",
    "plt.xlabel('Average Transaction Amount')\n",
    "plt.ylabel('Density')\n",
    "plt.title('Test Group Transaction Distribution')\n",
    "plt.legend()\n",
    "\n",
    "plt.tight_layout()\n",
    "plt.show()\n"
   ]
  },
  {
   "cell_type": "markdown",
   "id": "2ca0272f-75f0-4b65-87a2-2ae63e165408",
   "metadata": {},
   "source": [
    "#### Performing Hypothesis Testing Using Two Sample Z-test"
   ]
  },
  {
   "cell_type": "code",
   "execution_count": 66,
   "id": "1877d710-a5d4-4727-8bea-7b0f9f9f43c8",
   "metadata": {},
   "outputs": [
    {
     "data": {
      "text/plain": [
       "(221.1751612903226, 21.359192112027014)"
      ]
     },
     "execution_count": 66,
     "metadata": {},
     "output_type": "execute_result"
    }
   ],
   "source": [
    "control_mean = df[\"control_group_avg_tran\"].mean()\n",
    "control_std = df[\"control_group_avg_tran\"].std()\n",
    "control_mean, control_std"
   ]
  },
  {
   "cell_type": "code",
   "execution_count": 70,
   "id": "249a271f-9057-4fd9-837a-c395ea3f7cc5",
   "metadata": {},
   "outputs": [
    {
     "data": {
      "text/plain": [
       "(235.9835483870968, 36.65808210918637)"
      ]
     },
     "execution_count": 70,
     "metadata": {},
     "output_type": "execute_result"
    }
   ],
   "source": [
    "test_mean = df[\"test_group_avg_tran\"].mean()\n",
    "test_std = df[\"test_group_avg_tran\"].std()\n",
    "test_mean, test_std"
   ]
  },
  {
   "cell_type": "code",
   "execution_count": 72,
   "id": "7fde0fd0-6c31-49b1-baa1-b3bf84a378be",
   "metadata": {},
   "outputs": [
    {
     "data": {
      "text/plain": [
       "62"
      ]
     },
     "execution_count": 72,
     "metadata": {},
     "output_type": "execute_result"
    }
   ],
   "source": [
    "sample_size = df.shape[0]\n",
    "sample_size"
   ]
  },
  {
   "cell_type": "markdown",
   "id": "f6d046ff-a542-4812-92ab-3b297814a13d",
   "metadata": {},
   "source": [
    "### Test Using Critical Z Value (Rejection region)"
   ]
  },
  {
   "cell_type": "code",
   "execution_count": 75,
   "id": "3896806f-2603-4763-bc93-517c9e562ec0",
   "metadata": {},
   "outputs": [
    {
     "data": {
      "text/plain": [
       "2.7482973745691135"
      ]
     },
     "execution_count": 75,
     "metadata": {},
     "output_type": "execute_result"
    }
   ],
   "source": [
    "a = (control_std**2/sample_size)\n",
    "b = (test_std**2/sample_size)\n",
    "\n",
    "Z_score = (test_mean-control_mean)/np.sqrt(a+b)\n",
    "Z_score"
   ]
  },
  {
   "cell_type": "code",
   "execution_count": 80,
   "id": "f6b692f1-7676-4a30-bc5f-cbd1470c71b1",
   "metadata": {},
   "outputs": [
    {
     "data": {
      "text/plain": [
       "1.6448536269514722"
      ]
     },
     "execution_count": 80,
     "metadata": {},
     "output_type": "execute_result"
    }
   ],
   "source": [
    "# For a significance level of 5% (0.05) in a right-tailed test, the critical Z-value is approximately 1.645\n",
    "critical_zvalue = st.norm.ppf(1 - alpha)  # Right-tailed test at 5% significance level\n",
    "critical_zvalue"
   ]
  },
  {
   "cell_type": "code",
   "execution_count": 84,
   "id": "3707a0d7-c1a1-4275-a410-a1eb1367c018",
   "metadata": {},
   "outputs": [
    {
     "data": {
      "text/plain": [
       "True"
      ]
     },
     "execution_count": 84,
     "metadata": {},
     "output_type": "execute_result"
    }
   ],
   "source": [
    "Z_score > critical_zvalue"
   ]
  },
  {
   "cell_type": "markdown",
   "id": "ddc21760-2ae4-42a0-b4a5-a2eca8f156cb",
   "metadata": {},
   "source": [
    "Since Z score is higher than critical Z value, we can reject the null hypothesis."
   ]
  },
  {
   "cell_type": "markdown",
   "id": "211a17a2-7666-47a3-a288-4952fdf9c9fb",
   "metadata": {},
   "source": [
    "### Testing Using p-Value"
   ]
  },
  {
   "cell_type": "code",
   "execution_count": 90,
   "id": "d5440f77-596b-4554-b9da-05de6439219a",
   "metadata": {},
   "outputs": [
    {
     "data": {
      "text/plain": [
       "0.0029952824622024865"
      ]
     },
     "execution_count": 90,
     "metadata": {},
     "output_type": "execute_result"
    }
   ],
   "source": [
    "p_value = 1 - st.norm.cdf(Z_score)\n",
    "p_value"
   ]
  },
  {
   "cell_type": "code",
   "execution_count": 92,
   "id": "f6ea57f4-98b8-40fb-9638-a513ef2771f4",
   "metadata": {},
   "outputs": [
    {
     "data": {
      "text/plain": [
       "True"
      ]
     },
     "execution_count": 92,
     "metadata": {},
     "output_type": "execute_result"
    }
   ],
   "source": [
    "p_value < alpha"
   ]
  },
  {
   "cell_type": "markdown",
   "id": "5be68622-6169-40fc-b436-db0dd12d869e",
   "metadata": {},
   "source": [
    "Since p value is less than significance level (i.e. alpha), we can reject the null hypothesis."
   ]
  },
  {
   "cell_type": "markdown",
   "id": "2a88484a-ae51-473e-ba2c-cb9503b20f5d",
   "metadata": {},
   "source": [
    "<h1 style=\"text-align:center;\">📊 Phase 2: A/B Testing Analysis</h1>\n",
    "\n",
    "---\n",
    "\n",
    "### Hypothesis\n",
    "\n",
    "- **Null Hypothesis (H₀):** The campaign had no significant effect on customer response or engagement.  \n",
    "- **Alternative Hypothesis (H₁):** The campaign had a significant positive effect on customer response or engagement.\n",
    "\n",
    "---\n",
    "\n",
    "### Results\n",
    "\n",
    "- ✅ **Z-Score** > **Critical Z-Value**  \n",
    "  → This indicates that the observed difference between the groups is **statistically significant**.  \n",
    "\n",
    "- ✅ **p-Value** < **Significance Level (α)**  \n",
    "  → This provides additional evidence to **reject the null hypothesis**.\n",
    "\n",
    "---\n",
    "\n",
    "### Interpretation\n",
    "\n",
    "Since both statistical conditions are satisfied:\n",
    "- The campaign had a **significant impact** on customer engagement or conversion.\n",
    "- The difference between the control and test groups is **not due to random chance**, but due to the campaign’s effectiveness.\n",
    "\n",
    "---\n",
    "\n",
    "<h2 style=\"text-align:center;\">💳 Final Conclusion: Youth Credit Card Launch</h2>\n",
    "\n",
    "Based on the insights from **Phase 1** and **Phase 2**:\n",
    "\n",
    "1. **Phase 1 Findings:**  \n",
    "   - The **18–25 age group** shows strong potential for credit card adoption.  \n",
    "   - They are active in **Fashion & Apparel** and **Electronics** purchases.  \n",
    "   - Their **credit scores** and **income levels** are suitable for an entry-level youth credit card.  \n",
    "\n",
    "2. **Phase 2 Findings:**  \n",
    "   - The **A/B testing results** confirm that the **marketing campaign** targeting this segment was **statistically effective**.  \n",
    "   - The youth audience **responded positively** to the campaign.  \n",
    "\n",
    "---\n",
    "\n",
    "### 🚀 Final Recommendation\n",
    "\n",
    "Given the strong data-backed evidence:\n",
    "> **The Youth Credit Card can be successfully launched.**\n",
    "\n",
    "It is recommended to:\n",
    "- Focus marketing campaigns on **digital platforms** (social media, e-commerce sites).  \n",
    "- Provide **exclusive discounts** on **Fashion & Electronics** categories.  \n",
    "- Offer **reward points** and **cashback programs** to enhance adoption and usage.\n",
    "\n",
    "---\n",
    "\n",
    "✅ **Overall Conclusion:**  \n",
    "The data-driven analysis from both phases strongly supports the **launch of the Youth Credit Card**, targeting the **18–25 age group** as the **primary market segment**.\n"
   ]
  },
  {
   "cell_type": "code",
   "execution_count": null,
   "id": "0d91f4f9-ee5f-41f3-a23c-471155a0001d",
   "metadata": {},
   "outputs": [],
   "source": []
  }
 ],
 "metadata": {
  "kernelspec": {
   "display_name": "Python 3 (ipykernel)",
   "language": "python",
   "name": "python3"
  },
  "language_info": {
   "codemirror_mode": {
    "name": "ipython",
    "version": 3
   },
   "file_extension": ".py",
   "mimetype": "text/x-python",
   "name": "python",
   "nbconvert_exporter": "python",
   "pygments_lexer": "ipython3",
   "version": "3.12.4"
  }
 },
 "nbformat": 4,
 "nbformat_minor": 5
}
